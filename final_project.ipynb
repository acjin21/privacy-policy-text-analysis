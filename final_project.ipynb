{
 "cells": [
  {
   "cell_type": "markdown",
   "metadata": {},
   "source": [
    "# 1. Introduction and hypothesis\n",
    "For this final project, I am examining privacy policies to tackle problems in usable privacy. \n",
    "\n",
    "## Background and Motivation\n",
    "Website privacy policies are often ignored or uninterpretable. Users of internet services may ignore a privacy policy due to many factors, some of which include length, density, and lack of interpretability. In fact, since we don't typically notice the effects of companies' data practices, many of us continue ignoring privacy policies.\n",
    "\n",
    "However, this is problematic on many fronts. Most importantly, while we do not read details included in website privacy policies, we still maintain some expectation of privacy. For example, I expect that, if I've turned off location tracking, then a website will not try to infer my location. Unfortunately (for us privacy-lovers), as many computer security and privacy researchers have discovered, users' expectations and companies' practices often do not align. \n",
    "\n",
    "Hence, it is imperative that users have a better understanding of what companies' privacy policies actually entail. This is not a simple task though, since many companies hire lawyers to draft these policies in the way that provides the most benefit to the company. \n",
    "\n",
    "## Prior Work\n",
    "A significant amount of effort in improving the interpretability of privacy policies is \"The Usable Privacy Policy Project\", a project affiliated with Carnegie Mellon University, Fordam University, Stanford University, University of Cincinnati, Penn State, Columbia University, and University of Michigan. The dataset used in this project is the Usable Privacy Policy Project's **OPP-115 Corpus**, published with their ACL 2016 paper, \"The creation and analysis of a website privacy policy corpus\". \n",
    "\n",
    "Another prominent prior work is **Polisis AI**, a machine-learning-trained-tool produced by researchers at Switzerland's Federal Institute of Technology at Lausanne, the University of Wisconsin, and the University of Michigan. According to a [Wired article](https://www.wired.com/story/polisis-ai-reads-privacy-policies-so-you-dont-have-to/), Polisis is a \"website and browser extension that uses their machine-learning-trained app to automatically read and make sense of any online service's privacy policy\". The tool can be found [here](https://pribot.org/). \n",
    "\n",
    "## Hypotheses\n",
    "Building off the insights I have gained from reading about these non-trivial efforts by other researchers, I wanted to seek a better understanding of using text analysis methods we've learned in this class to answer some important questions around usability of privacy policies. These questions include:\n",
    "1. If I'm a user with a privacy-related question, can I easily find out the answer to that question in a specific segment of the policy text?\n",
    "2. What do privacy policies typically include? As a user, what should I expect a privacy policy to contain?\n",
    "3. Are there ways to distinguish between general types of privacy policies? Are those of government-run entities different from commercial entities?\n",
    "4. Given a segment, what data practice category matches the segment? \n",
    "\n",
    "To minimize redundancy, I elaborate on specific hypotheses for each RQ in the later sections.\n",
    "\n",
    "The first three questions are phrased from the point of view of a user (e.g., an Amazon user). The third question can also be phrased from the point of view of someone auditing privacy policies (and may be trying to look more broadly at all policies from commercial websites). The fourth question is inspired by the Wilson et al., 2016 paper above (whose dataset is used here), and may be used in an automated tool looking for data practices of a certain website/company.\n",
    "\n",
    "I expect to have some interpretable results since the language of privacy policies, while difficult to understand from a human point of view, is formal and may benefit from computational methods (unlike social media data, which may contain incorrect spellings and colloquialisms that add noise). However, I think it will be difficult to establish clear grouping of privacy policies, since there may be multiple dimensions in which we draw lines between different privacy policies. "
   ]
  },
  {
   "cell_type": "markdown",
   "metadata": {},
   "source": [
    "# 2. Data and methods"
   ]
  },
  {
   "cell_type": "markdown",
   "metadata": {},
   "source": [
    "## Data"
   ]
  },
  {
   "cell_type": "markdown",
   "metadata": {},
   "source": [
    "As mentioned above, the data used here is the `OPP-115 Corpus (ACL 2016)`. The dataset may be downloaded from the [Usable Privacy Project page](https://usableprivacy.org/data).\n",
    "\n",
    "Quoting the website, the dataset is \"a collection of website privacy policies (i.e., in natural language) with annotations that specify data practices in the text. Each privacy policy was read and annotated by three graduate students in law.\" \n",
    "\n",
    "**We cite the paper associated with this dataset here:**  \n",
    "Wilson, Shomir & Schaub, Florian & Dara, Aswarth & Liu, Frederick & Cherivirala, Sushain & Leon, Pedro & Andersen, Mads & Zimmeck, Sebastian & Sathyendra, Kanthashree & Russell, N. & Norton, Thomas & Hovy, Eduard & Reidenberg, Joel & Sadeh, Norman. (2016). The Creation and Analysis of a Website Privacy Policy Corpus. 1330-1340. 10.18653/v1/P16-1126. "
   ]
  },
  {
   "cell_type": "markdown",
   "metadata": {},
   "source": [
    "### Loading the data"
   ]
  },
  {
   "cell_type": "markdown",
   "metadata": {},
   "source": [
    "We load the actual text (sanitized) for each of the 115 website policies in the dataset."
   ]
  },
  {
   "cell_type": "code",
   "execution_count": 1,
   "metadata": {},
   "outputs": [
    {
     "name": "stdout",
     "output_type": "stream",
     "text": [
      "Number of policies: 115\n"
     ]
    }
   ],
   "source": [
    "import glob\n",
    "filenames = glob.glob(\"./OPP-115/sanitized_policies/*.html\")\n",
    "\n",
    "company_segments = {} # keys: company name -> values: list of segments from that company's policy\n",
    "\n",
    "for filename in filenames:\n",
    "    company_name = filename.split('/')[-1].split('.csv')[0].split('_')[-1]\n",
    "    file = open(filename, \"r\")\n",
    "    file_segments = file.read().split(\"|||\")\n",
    "    # store data\n",
    "    company_segments[company_name] = file_segments\n",
    "\n",
    "print(f\"Number of policies: {len(filenames)}\")"
   ]
  },
  {
   "cell_type": "markdown",
   "metadata": {},
   "source": [
    "### Prepare the data"
   ]
  },
  {
   "cell_type": "markdown",
   "metadata": {},
   "source": [
    "Since the text is essentially HTML, there are many tags. For simplicity, we remove all HTML tags."
   ]
  },
  {
   "cell_type": "code",
   "execution_count": 2,
   "metadata": {},
   "outputs": [],
   "source": [
    "def clean_html(raw_html):\n",
    "    \"\"\"\n",
    "    Strip html tags from text\n",
    "    \"\"\"\n",
    "    import re\n",
    "    cleanr = re.compile('<.*?>')\n",
    "    cleantext = re.sub(cleanr, '', raw_html)\n",
    "    cleantext = re.sub(r\"\\s+\", \" \", cleantext)\n",
    "    return cleantext"
   ]
  },
  {
   "cell_type": "code",
   "execution_count": 3,
   "metadata": {},
   "outputs": [],
   "source": [
    "for company, segment_list in company_segments.items():\n",
    "    company_segments[company] = [clean_html(segment) for segment in company_segments[company]]"
   ]
  },
  {
   "cell_type": "markdown",
   "metadata": {},
   "source": [
    "## Methods"
   ]
  },
  {
   "cell_type": "markdown",
   "metadata": {},
   "source": [
    "The main methods I will use are: \n",
    "1. spaCy Embedding Based Similarity (this uses word embeddings and cosine similarity underneath, as Prof. Wilkens demonstrated in class). -- for Research Question 1\n",
    "2. Topic Modeling using Latent Dirichlet Allocation (LDA) -- for Research Questions 2 and 3\n",
    "3. Machine Learning Classification (with GridSearch for model tuning) -- for Research Question 4"
   ]
  },
  {
   "cell_type": "markdown",
   "metadata": {},
   "source": [
    "Using **spaCy word embeddings and cosine similarity** are appropriate for comparing document similarity since word embeddings capture the semantics of words of groups of words, rather than relying on token frequencies. While we don't directly use cosine similarity (spaCy uses it under the hood), we discovered in class that cosine similarities are often good for text similarity tasks.\n",
    "\n",
    "We use **spaCy's pipeline and tools** since using open-source libraries allows us to benefit from the larger developer community's efforts. We can also take advantage of the plethora of text-processing and analysis methods provided by the spaCy API."
   ]
  },
  {
   "cell_type": "markdown",
   "metadata": {},
   "source": [
    "We use **topic modeling** since this will be key in providing a high-level sense of what our documents (i.e., privacy policies, and specifically segments of privacy policies) are about. Especially since many of us don't read privacy policies and don't even know what they contain, topic modeling, which is an unsupervised method, is particularly well-suited for our goal of better understanding these policies. Using LDA is beneficial for us since the topical sparsity will help when it comes to interpretability, an overarching theme of this project."
   ]
  },
  {
   "cell_type": "markdown",
   "metadata": {},
   "source": [
    "Finally, we use **machine learning classifiers (specifically Logistic Regression and Random Forest)** for our classification problem, since these two methods have performed well in the various text analysis efforts throughout the course. We **cross-validate** to reduce the chance of overfitting, and also use **GridSearchCV** to tune the parameters of our models, since this may often lead to improvements in performance."
   ]
  },
  {
   "cell_type": "markdown",
   "metadata": {},
   "source": [
    "# 3. Results + 4. Discussion"
   ]
  },
  {
   "cell_type": "markdown",
   "metadata": {},
   "source": [
    "*We now interleave our dialogue with code to step through the techniques used to solve each of our four main research questions. Discussions will be appended to the code and results of each section.*"
   ]
  },
  {
   "cell_type": "markdown",
   "metadata": {},
   "source": [
    "## *RQ 1: If I'm a user with a privacy-related question, can I easily find out the answer to that question in a specific segment of the policy text?*\n",
    "## METHOD: Embedding-based segment similarity using spaCy."
   ]
  },
  {
   "cell_type": "markdown",
   "metadata": {},
   "source": [
    "As a reminder, we hypothesize that using embedding-based similarity to find the most similar policy segment to our user's question will allow us to easily identify a segment that answers the question (the top-matching segment makes sense)."
   ]
  },
  {
   "cell_type": "code",
   "execution_count": 4,
   "metadata": {},
   "outputs": [],
   "source": [
    "import spacy\n",
    "nlp = spacy.load(\"en_core_web_lg\") # We use the large model for the embeddings"
   ]
  },
  {
   "cell_type": "markdown",
   "metadata": {},
   "source": [
    "Suppose I'm a user with a privacy-related question (as prefaced in the RQ above). I want to scan through a privacy policy to answer this question and see the specific chunk of text, quoted from the policy. In the cell below, we create a realistic question as our `query`."
   ]
  },
  {
   "cell_type": "code",
   "execution_count": 6,
   "metadata": {},
   "outputs": [],
   "source": [
    "query = \"Do you share my information with third parties?\"\n",
    "query_obj = nlp(query)"
   ]
  },
  {
   "cell_type": "markdown",
   "metadata": {},
   "source": [
    "For this project, we will focus on one company's privacy policy and see if we can find a similar statement relevant to our query. This method can be trivially applied to other policies by substituting the company name (although the string also includes the .com.html at the end) in the cell below.\n",
    "\n",
    "We iterate through every segment in Amazon's policy and store the segment's similarity score compared to our query."
   ]
  },
  {
   "cell_type": "code",
   "execution_count": 7,
   "metadata": {},
   "outputs": [],
   "source": [
    "amazon_policy_segments = company_segments['amazon.com.html']\n",
    "segment_similarities = {} # maps segment_index -> segment_similarity\n",
    "for i, segment in enumerate(amazon_policy_segments):\n",
    "    # generate sentence embedding\n",
    "    segment_obj = nlp(segment)\n",
    "    segment_similarity = query_obj.similarity(segment_obj)\n",
    "    # store similarity for this segment\n",
    "    segment_similarities[i] = segment_similarity"
   ]
  },
  {
   "cell_type": "markdown",
   "metadata": {},
   "source": [
    "Now, we sort the segments by their similarity to our query."
   ]
  },
  {
   "cell_type": "code",
   "execution_count": 8,
   "metadata": {},
   "outputs": [],
   "source": [
    "sorted_similarities = sorted(segment_similarities.items(), key=lambda pair: pair[1])"
   ]
  },
  {
   "cell_type": "markdown",
   "metadata": {},
   "source": [
    "**We look at the two least-similar segments first to see if they are indeed dissimilar and therefore irrelevant to a user.**"
   ]
  },
  {
   "cell_type": "code",
   "execution_count": 9,
   "metadata": {},
   "outputs": [
    {
     "name": "stdout",
     "output_type": "stream",
     "text": [
      "[(0, 0.5536039401230849), (35, 0.7504127733259123)]\n"
     ]
    }
   ],
   "source": [
    "print(sorted_similarities[:2])"
   ]
  },
  {
   "cell_type": "code",
   "execution_count": 10,
   "metadata": {},
   "outputs": [
    {
     "name": "stdout",
     "output_type": "stream",
     "text": [
      "Amazon.com Privacy Notice \n"
     ]
    }
   ],
   "source": [
    "print(amazon_policy_segments[0])"
   ]
  },
  {
   "cell_type": "code",
   "execution_count": 11,
   "metadata": {},
   "outputs": [
    {
     "name": "stdout",
     "output_type": "stream",
     "text": [
      " Co-branded and Joint Offerings Examples of businesses with which we offer joint or co-branded products and other offerings include Starbucks, OfficeMax, Verizon Wireless, Sprint, T-Mobile, AT&T, J&R Electronics, Eddie Bauer and Northern Tool + Equipment. \n"
     ]
    }
   ],
   "source": [
    "print(amazon_policy_segments[35])"
   ]
  },
  {
   "cell_type": "markdown",
   "metadata": {},
   "source": [
    "**We then look at the two most-similar segments to see if they would be helpful to the user**"
   ]
  },
  {
   "cell_type": "code",
   "execution_count": 12,
   "metadata": {},
   "outputs": [
    {
     "name": "stdout",
     "output_type": "stream",
     "text": [
      "[(2, 0.9388802272257288), (16, 0.9403845018250548)]\n"
     ]
    }
   ],
   "source": [
    "print(sorted_similarities[-2:])"
   ]
  },
  {
   "cell_type": "code",
   "execution_count": 13,
   "metadata": {},
   "outputs": [
    {
     "name": "stdout",
     "output_type": "stream",
     "text": [
      " With Your Consent: Other than as set out above, you will receive notice when information about you might go to third parties, and you will have an opportunity to choose not to share the information. \n"
     ]
    }
   ],
   "source": [
    "print(amazon_policy_segments[16])"
   ]
  },
  {
   "cell_type": "code",
   "execution_count": 14,
   "metadata": {},
   "outputs": [
    {
     "name": "stdout",
     "output_type": "stream",
     "text": [
      "Amazon.com knows that you care how information about you is used and shared, and we appreciate your trust that we will do so carefully and sensibly. This notice describes our privacy policy. By visiting Amazon.com, you are accepting the practices described in this Privacy Notice. What Personal Information About Customers Does Amazon.com Gather? What About Cookies? Does Amazon.com Share the Information It Receives? How Secure Is Information About Me? What About Third-Party Advertisers and Links to Other Websites? Which Information Can I Access? What Choices Do I Have? Are Children Allowed to Use Amazon.com? Does Amazon.com Participate in the Safe Harbor Program? Conditions of Use, Notices, and Revisions Examples of Information Collected \n"
     ]
    }
   ],
   "source": [
    "print(amazon_policy_segments[2])"
   ]
  },
  {
   "cell_type": "markdown",
   "metadata": {},
   "source": [
    "# Discussion of RQ 1."
   ]
  },
  {
   "cell_type": "markdown",
   "metadata": {},
   "source": [
    "From the results printed above, we see that the least-similar segments indeed do not answer our query, \"Do you share my information with third parties?\".\n",
    "\n",
    "We also see that the most similar segment (segment index = 16) does indeed provide some useful information to our user! Precisely, the answer is \"you will receive notice when information about you might go to third parties, and you will have an opportunity to choose not to share the information.\". Considering the similarities in words used (\"information\", \"third parties\", \"share\"), this result makes sense. Also, \"go to\" and \"share ... with\" have similar semantic meanings, which also may have contributed to the high similarity score. \n",
    "\n",
    "I think this worked particularly well due to the limited range of ways one could phrase this question and also the appropriate response. \"Third parties\" is a particularly common phrase in third parties, and is almost always mentioned within the context of: what information is shared with whom.\n",
    "\n",
    "We also gain confidence in this technique upon observing that the least-similar segments do not reveal any useful information regarding information-sharing with third parties.\n",
    "\n",
    "One limitation here is visible in the \"Other than as set out above\" substring in the most similar segment (segment 16). There may be additional information in other segments that the user would need to know to truly understand third parties' potential to obtain personal information. Two solutions to this limitation include: (1) changing how segments are divided, and also (2) running further analysis on the most-similar segments. \n",
    "\n",
    "However, if we set a cap on the most-similar segments, we may unintentionally exclude important details. The most useful way to present this information would be in presenting the entire document and highlighting the text that corresponds with this most-similar segment. "
   ]
  },
  {
   "cell_type": "markdown",
   "metadata": {},
   "source": [
    "## *RQ 2: What do privacy policies typically include? As a user, what should I expect a privacy policy to contain?*"
   ]
  },
  {
   "cell_type": "markdown",
   "metadata": {},
   "source": [
    "With this research question, we attempt to find some way to summarize/generalize privacy policies. \n",
    "\n",
    "Our hypothesis is that there are discrete topics that compose each privacy policy segment. We hope to observe this in the topics created and the correlation plot between generated topics."
   ]
  },
  {
   "cell_type": "markdown",
   "metadata": {},
   "source": [
    "## METHOD: Topic Modeling\n",
    "Topic modeling with LDA at the segment granularity will help us create these topics."
   ]
  },
  {
   "cell_type": "code",
   "execution_count": 23,
   "metadata": {},
   "outputs": [],
   "source": [
    "from sklearn.feature_extraction.text import CountVectorizer\n",
    "from sklearn.decomposition import LatentDirichletAllocation\n",
    "\n",
    "import pandas as pd\n",
    "import random"
   ]
  },
  {
   "cell_type": "markdown",
   "metadata": {},
   "source": [
    "We first grab all segments from all 115 policies."
   ]
  },
  {
   "cell_type": "code",
   "execution_count": 16,
   "metadata": {},
   "outputs": [
    {
     "name": "stdout",
     "output_type": "stream",
     "text": [
      "Total number of segments: 3792\n"
     ]
    }
   ],
   "source": [
    "all_segments = [segment for seg_list in company_segments.values() for segment in seg_list]\n",
    "print(f\"Total number of segments: {len(all_segments)}\")"
   ]
  },
  {
   "cell_type": "markdown",
   "metadata": {},
   "source": [
    "The following cells perform the topic modeling we learned in lecture. We increase the number of iterations to ensure convergence."
   ]
  },
  {
   "cell_type": "code",
   "execution_count": 17,
   "metadata": {},
   "outputs": [
    {
     "name": "stdout",
     "output_type": "stream",
     "text": [
      "Feature matrix shape: (3792, 2572)\n"
     ]
    }
   ],
   "source": [
    "vectorizer = CountVectorizer( # Token counts, not normalized (sklearn normalizes later)\n",
    "    input = 'content',\n",
    "    encoding = 'utf-8',\n",
    "    strip_accents = 'unicode',\n",
    "    stop_words='english',\n",
    "    lowercase = True,\n",
    "    min_df = 0.001, \n",
    "    max_df = 0.3   # even smaller since a lot of terms like \"privacy\", \"policy\", etc. will not be super useful in creating distinct topics.\n",
    ")\n",
    "\n",
    "X = vectorizer.fit_transform(all_segments)\n",
    "print(\"Feature matrix shape:\", X.shape)"
   ]
  },
  {
   "cell_type": "code",
   "execution_count": 18,
   "metadata": {},
   "outputs": [
    {
     "name": "stdout",
     "output_type": "stream",
     "text": [
      "iteration: 1 of max_iter: 30\n",
      "iteration: 2 of max_iter: 30\n",
      "iteration: 3 of max_iter: 30\n",
      "iteration: 4 of max_iter: 30\n",
      "iteration: 5 of max_iter: 30\n",
      "iteration: 6 of max_iter: 30\n",
      "iteration: 7 of max_iter: 30\n",
      "iteration: 8 of max_iter: 30\n",
      "iteration: 9 of max_iter: 30\n",
      "iteration: 10 of max_iter: 30\n",
      "iteration: 11 of max_iter: 30\n",
      "iteration: 12 of max_iter: 30\n",
      "iteration: 13 of max_iter: 30\n",
      "iteration: 14 of max_iter: 30\n",
      "iteration: 15 of max_iter: 30\n",
      "iteration: 16 of max_iter: 30\n",
      "iteration: 17 of max_iter: 30\n",
      "iteration: 18 of max_iter: 30\n",
      "iteration: 19 of max_iter: 30\n",
      "iteration: 20 of max_iter: 30\n",
      "iteration: 21 of max_iter: 30\n",
      "iteration: 22 of max_iter: 30\n",
      "iteration: 23 of max_iter: 30\n",
      "iteration: 24 of max_iter: 30\n",
      "iteration: 25 of max_iter: 30\n",
      "iteration: 26 of max_iter: 30\n",
      "iteration: 27 of max_iter: 30\n",
      "iteration: 28 of max_iter: 30\n",
      "iteration: 29 of max_iter: 30\n",
      "iteration: 30 of max_iter: 30\n"
     ]
    },
    {
     "data": {
      "text/plain": [
       "LatentDirichletAllocation(evaluate_every=0, max_iter=30, n_components=20,\n",
       "                          n_jobs=-1, verbose=1)"
      ]
     },
     "execution_count": 18,
     "metadata": {},
     "output_type": "execute_result"
    }
   ],
   "source": [
    "lda = LatentDirichletAllocation(\n",
    "    n_components=20, # Number of topics to find\n",
    "    n_jobs=-1,       # Use all CPU cores\n",
    "    verbose=1,       # Print progress\n",
    "    max_iter=30,     \n",
    "    evaluate_every=0 # Set >=1 to test for convergence (slow, but can stop iteration)\n",
    ")\n",
    "\n",
    "lda.fit(X)"
   ]
  },
  {
   "cell_type": "code",
   "execution_count": 19,
   "metadata": {},
   "outputs": [],
   "source": [
    "def print_top_words(model, feature_names, n_top_words):\n",
    "    \"\"\"\n",
    "    Prints the top words in every inferred topic.\n",
    "    \"\"\"\n",
    "    for topic_idx, topic in enumerate(model.components_):\n",
    "        message = \"Topic %d: \" % topic_idx\n",
    "        message += \" \".join([feature_names[i]\n",
    "                             for i in topic.argsort()[:-n_top_words - 1:-1]])\n",
    "        print(message)\n",
    "    print()"
   ]
  },
  {
   "cell_type": "code",
   "execution_count": 20,
   "metadata": {},
   "outputs": [
    {
     "name": "stdout",
     "output_type": "stream",
     "text": [
      "Topic 0: sites policy party websites site links practices policies website services\n",
      "Topic 1: barnes noble research track personal receive signals education currently mail\n",
      "Topic 2: site cookies web browser collect website ip data computer used\n",
      "Topic 3: email address fsd fool account company friend services games personal\n",
      "Topic 4: services service party providers social provide collect share media google\n",
      "Topic 5: address contact email mail personal child medianews com personally questions\n",
      "Topic 6: account services provide user personal users time content features site\n",
      "Topic 7: children com 13 age collect personal website websites online does\n",
      "Topic 8: device mobile services location collect apps applications including app application\n",
      "Topic 9: personal share company policy business companies affiliates parties party sell\n",
      "Topic 10: health kaleida allstate personal request delete written law business records\n",
      "Topic 11: states united honda services personal provide online country laws request\n",
      "Topic 12: security data access protect personal secure safe unauthorized harbor measures\n",
      "Topic 13: card credit services products order number payment provide purchase service\n",
      "Topic 14: opt email communications receive messages send receiving promotional marketing contact\n",
      "Topic 15: cookies browser flash technologies cookie set tracking disable local computer\n",
      "Topic 16: personally identifiable law legal disclose necessary protect required comply rights\n",
      "Topic 17: policy changes time notice change terms com site practices contact\n",
      "Topic 18: parties california purposes request marketing personal rights direct section opt\n",
      "Topic 19: advertising web ads party advertisements sites beacons cookies ad companies\n",
      "\n"
     ]
    }
   ],
   "source": [
    "print_top_words(lda, vectorizer.get_feature_names(), n_top_words=10)"
   ]
  },
  {
   "cell_type": "markdown",
   "metadata": {},
   "source": [
    "From a quick scan through these topics, we see some interesting groupings.  \n",
    "For instance, topic 2 seems heavily centered on cookies and web-tracking.  \n",
    "Topic 8 may be related to mobile devices and location tracking.   \n",
    "Topic 7 seems to refer to minors and childrens' privacy.  "
   ]
  },
  {
   "cell_type": "markdown",
   "metadata": {},
   "source": [
    "While these topics seem interesting and intuitive within the context of privacy concerns, we want to learn more about the policies, given these topics. We first look at correlations between topics to get a sense of policy structure."
   ]
  },
  {
   "cell_type": "code",
   "execution_count": 21,
   "metadata": {},
   "outputs": [
    {
     "name": "stdout",
     "output_type": "stream",
     "text": [
      "Doc-topic matrix shape: (3792, 20)\n"
     ]
    }
   ],
   "source": [
    "doc_topic_matrix = lda.transform(X)\n",
    "print(\"Doc-topic matrix shape:\", doc_topic_matrix.shape)"
   ]
  },
  {
   "cell_type": "code",
   "execution_count": 25,
   "metadata": {},
   "outputs": [
    {
     "data": {
      "image/png": "[encoded data removed]",
      "text/plain": [
       "<Figure size 792x648 with 2 Axes>"
      ]
     },
     "metadata": {
      "needs_background": "light"
     },
     "output_type": "display_data"
    }
   ],
   "source": [
    "# Correlation plot\n",
    "#  Adapted from Seaborn docs\n",
    "import matplotlib.pyplot as plt\n",
    "import numpy as np\n",
    "import seaborn as sns\n",
    "from   sklearn.preprocessing import StandardScaler\n",
    "\n",
    "sns.set_context('talk')\n",
    "corr = np.corrcoef(doc_topic_matrix.T)\n",
    "\n",
    "corr_std = StandardScaler().fit_transform(corr)\n",
    "\n",
    "# Generate a mask for the upper triangle\n",
    "mask = np.triu(np.ones_like(corr, dtype=bool))\n",
    "\n",
    "# Set up the matplotlib figure\n",
    "f, ax = plt.subplots(figsize=(11, 9))\n",
    "\n",
    "# Generate a custom diverging colormap\n",
    "cmap = sns.diverging_palette(230, 20, as_cmap=True)\n",
    "\n",
    "# Draw the heatmap with the mask and correct aspect ratio\n",
    "sns.heatmap(\n",
    "    corr_std, \n",
    "    mask=mask, \n",
    "    cmap=cmap, \n",
    "    center=0,\n",
    "    square=True, \n",
    "    linewidths=.5, \n",
    "    cbar_kws={\"shrink\": .5}\n",
    ")\n",
    "plt.tight_layout()\n",
    "plt.show()"
   ]
  },
  {
   "cell_type": "markdown",
   "metadata": {},
   "source": [
    "We see that 2 and 15 are positively correlated, while 2 and 5 are negatively correlated.\n",
    "\n",
    "Looking at Topics 2 and 15, they both seem to be related to cookies and web browsing/web-tracking, so it makes sense that they are often found in the same segment.\n",
    "\n",
    "Topics 2 and 5, negatively correlated, do not occur in the same segment as often. Topic 2 is related to cookies and web-tracking, while topic 5 refers to personal information like email, addresses, and potentially phone numbers."
   ]
  },
  {
   "cell_type": "markdown",
   "metadata": {},
   "source": [
    "**Taking these topics a bit further, we observe that there are four main domain endings.**\n",
    "These domain endings are: \".com\", \".org\", \".edu\", and \".gov\". These seem to be related to organization type (e.g., commercial vs government), so we then ask, do some organization types speak more to certain topics than other organization types? For instance, do commercial organizations talk more about ads and web-tracking than educational services?"
   ]
  },
  {
   "cell_type": "markdown",
   "metadata": {},
   "source": [
    "This leads us to our third research question...\n",
    "## *RQ 3. Are there ways to distinguish between general types of privacy policies? Are those of government-run entities different from commercial entities?*"
   ]
  },
  {
   "cell_type": "markdown",
   "metadata": {},
   "source": [
    "We hypothesize that there will be some differences between policies of different organization types, especially between government-run entities and commercial entities since the latter is more consumer-facing and typically involves more third-party advertising. However, we also hypothesize that the difference may be slightly blurred along several topics, especially since most policies will talk about \"third parties\", \"personal information\", and \"location tracking\" to some extent. "
   ]
  },
  {
   "cell_type": "markdown",
   "metadata": {},
   "source": [
    "We first generate the domain for each of our segments and store them in a DataFrame."
   ]
  },
  {
   "cell_type": "code",
   "execution_count": 28,
   "metadata": {},
   "outputs": [],
   "source": [
    "company_names = company_segments.keys()"
   ]
  },
  {
   "cell_type": "code",
   "execution_count": 29,
   "metadata": {},
   "outputs": [],
   "source": [
    "segments_column = []\n",
    "company_column = []\n",
    "domain_column = []\n",
    "\n",
    "for company in company_names:\n",
    "    for segment in company_segments[company]:\n",
    "        segments_column.append(segment)\n",
    "        company_column.append(company)\n",
    "        domain_column.append(company.split('.')[-2])"
   ]
  },
  {
   "cell_type": "code",
   "execution_count": 30,
   "metadata": {},
   "outputs": [],
   "source": [
    "policy_seg_df = pd.DataFrame()\n",
    "policy_seg_df['segment'] = segments_column\n",
    "policy_seg_df['company'] = company_column\n",
    "policy_seg_df['domain'] = domain_column"
   ]
  },
  {
   "cell_type": "code",
   "execution_count": 31,
   "metadata": {},
   "outputs": [
    {
     "data": {
      "text/html": [
       "<div>\n",
       "<style scoped>\n",
       "    .dataframe tbody tr th:only-of-type {\n",
       "        vertical-align: middle;\n",
       "    }\n",
       "\n",
       "    .dataframe tbody tr th {\n",
       "        vertical-align: top;\n",
       "    }\n",
       "\n",
       "    .dataframe thead th {\n",
       "        text-align: right;\n",
       "    }\n",
       "</style>\n",
       "<table border=\"1\" class=\"dataframe\">\n",
       "  <thead>\n",
       "    <tr style=\"text-align: right;\">\n",
       "      <th></th>\n",
       "      <th>segment</th>\n",
       "      <th>company</th>\n",
       "      <th>domain</th>\n",
       "    </tr>\n",
       "  </thead>\n",
       "  <tbody>\n",
       "    <tr>\n",
       "      <th>0</th>\n",
       "      <td>Privacy Policy Last Modified: March 25, 2013</td>\n",
       "      <td>latinpost.com.html</td>\n",
       "      <td>com</td>\n",
       "    </tr>\n",
       "    <tr>\n",
       "      <th>1</th>\n",
       "      <td>This is the privacy policy (\"Privacy Policy\") ...</td>\n",
       "      <td>latinpost.com.html</td>\n",
       "      <td>com</td>\n",
       "    </tr>\n",
       "    <tr>\n",
       "      <th>2</th>\n",
       "      <td>1. When This Privacy Policy Applies. This Pri...</td>\n",
       "      <td>latinpost.com.html</td>\n",
       "      <td>com</td>\n",
       "    </tr>\n",
       "    <tr>\n",
       "      <th>3</th>\n",
       "      <td>This Privacy Policy will remain in full force ...</td>\n",
       "      <td>latinpost.com.html</td>\n",
       "      <td>com</td>\n",
       "    </tr>\n",
       "    <tr>\n",
       "      <th>4</th>\n",
       "      <td>2. U.S. Governing Law; Safe Harbor. The Site ...</td>\n",
       "      <td>latinpost.com.html</td>\n",
       "      <td>com</td>\n",
       "    </tr>\n",
       "  </tbody>\n",
       "</table>\n",
       "</div>"
      ],
      "text/plain": [
       "                                             segment             company  \\\n",
       "0      Privacy Policy Last Modified: March 25, 2013   latinpost.com.html   \n",
       "1  This is the privacy policy (\"Privacy Policy\") ...  latinpost.com.html   \n",
       "2   1. When This Privacy Policy Applies. This Pri...  latinpost.com.html   \n",
       "3  This Privacy Policy will remain in full force ...  latinpost.com.html   \n",
       "4   2. U.S. Governing Law; Safe Harbor. The Site ...  latinpost.com.html   \n",
       "\n",
       "  domain  \n",
       "0    com  \n",
       "1    com  \n",
       "2    com  \n",
       "3    com  \n",
       "4    com  "
      ]
     },
     "execution_count": 31,
     "metadata": {},
     "output_type": "execute_result"
    }
   ],
   "source": [
    "policy_seg_df.head()"
   ]
  },
  {
   "cell_type": "markdown",
   "metadata": {},
   "source": [
    "We now plot, for each topic, a bar with the mean topic probability for every organization. Bar height indicates probability of segments in the domain category (e.g., com) relating to that specific topic."
   ]
  },
  {
   "cell_type": "code",
   "execution_count": 33,
   "metadata": {},
   "outputs": [
    {
     "data": {
      "image/png": "[encoded data removed]",
      "text/plain": [
       "<Figure size 1728x864 with 20 Axes>"
      ]
     },
     "metadata": {
      "needs_background": "light"
     },
     "output_type": "display_data"
    }
   ],
   "source": [
    "n_topics = doc_topic_matrix.shape[1]\n",
    "\n",
    "n_cols = 4\n",
    "n_rows = int(n_topics/n_cols)\n",
    "\n",
    "fig, axs = plt.subplots(n_rows, n_cols, figsize=(24, 12))\n",
    "axs = axs.ravel()\n",
    "\n",
    "unique_domain_endings = list(set(policy_seg_df['domain'].values))\n",
    "for topic in range(n_topics):\n",
    "    topic_data = doc_topic_matrix[:, topic]\n",
    "    topic_means = []\n",
    "    for domain_ending in unique_domain_endings:\n",
    "        mask = [domain_ending == d for d in policy_seg_df['domain'].values]\n",
    "        topic_mean = np.mean(topic_data[mask])\n",
    "        topic_means.append(topic_mean)\n",
    "    axs[topic].bar(unique_domain_endings, topic_means, color=['r', 'g', 'b', 'y'])\n",
    "    axs[topic].set_title(f'Topic {topic}')\n",
    "plt.tight_layout()\n",
    "plt.show()"
   ]
  },
  {
   "cell_type": "markdown",
   "metadata": {},
   "source": [
    "Here, we point out three interesting observations. \n",
    "\n",
    "* In the plot for Topic 19, we see that commercial websites (.com) are most strongly associated with the topic. Topic 19 seems related to advertising, which makes sense as commercial entities benefit largely (in profits) from ad services. .org, and .gov are slightly less associated with this topic.\n",
    "\n",
    "* In the plot for Topic 9, we see that .com is significantly more associated with this topic, which, upon looking at the most common words for this topic, may be related to business and affiliates. This makes sense given that \"business\" and \"affiliates\" are typically used when referring to commercial entities.\n",
    "\n",
    "* In the plot for Topic 10, we see that \".org\" websites are strongly associated with this topic (vs. other types of websites). Keywords imply that this topic may be related to insurance, health, and perhaps personal care services. Since .org may be associated with ensurance and health organizations, this also makes sense."
   ]
  },
  {
   "cell_type": "markdown",
   "metadata": {},
   "source": [
    "## Discussion for RQ 2 and 3"
   ]
  },
  {
   "cell_type": "markdown",
   "metadata": {},
   "source": [
    "Utilizing text, heat map, and bar graph results, we confirm our hypotheses and propose plausible responses to our research questions.\n",
    "\n",
    "**RQ 2: What do privacy policies typically include? As a user, what should I expect a privacy policy to contain?**\n",
    "**Hypothesis:** There are discrete topics that compose each privacy policy segment, but there is likely some overlap between topics.\n",
    "\n",
    "From the top words listed for each of the 20 topics, we identified that there are clear topics such as \"location tracking\", \"cookies/web-tracking\", and policies concerning minors/children. We also note here that terms like \"cookies\", \"websites\" still occur in multiple topics, but this overlap occurs pretty infrequently. I think this separation (which is good) is due to the `max_df` we intentionally set to a lower value in our vectorization. However, one limitation to this approach is that the `max_df` parameter may need to be set heuristically, which makes it difficult to determine what a good threshold for vectorization is.\n",
    "\n",
    "We also examined the correlation between topics in segments of the privacy policies to visually represent overlaps in topics. More interestingly, we observe that certain topics do not correlate with each other within policy segments. The example we point out is the negative correlation between the \"cookies\" topic and the email-address/personal information topic. These insights may be useful in guiding what aspects of privacy policy are related to each other and what a user may need to consider when thinking about \"cookies\" (i.e., they might not need to consider policy regarding personal information when thinking about cookies). \n",
    "\n",
    "**RQ 3: Are there ways to distinguish between general types of privacy policies? Are those of government-run entities different from commercial entities?**\n",
    "**Hypothesis:** There are some differences between policies of different organization types, especially between government-run entities and commercial entities since the latter is more consumer-facing and typically involves more third-party advertising. However, we also hypothesize that the difference may be slightly blurred along several topics, especially since most policies will talk about \"third parties\", \"personal information\", and \"location tracking\" to some extent.\n",
    "\n",
    "Observing the bar plots, the three points we made for topics 19, 9, and 10 demonstrate that there are intuitive differences between organization types for specific topics. However, some topics, like topic 12 (likely relating to secure data protected against unauthorized access), is almost equally present across all organization types. This confirms our second hypothesis that the difference is blurred/less prevalent in certain topics. \n",
    "\n",
    "One concerning limitation in this method is that there are significantly more .com websites than other websites. This can be observed by quickly scanning through the list of .html files. This is an inherent limitation in the dataset we use, but this can be resolved in the future with more data gathering and labeling."
   ]
  },
  {
   "cell_type": "markdown",
   "metadata": {},
   "source": [
    "**Moving onto our final research question, we increase the granularity from topic to data practice, and attempt to predict data practices in the policy text segments.**"
   ]
  },
  {
   "cell_type": "markdown",
   "metadata": {},
   "source": [
    "## RQ 4: *Given a segment, what data practice category matches the segment?*\n",
    "## METHOD: Using machine-learning classification to aid privacy policy scanning tools"
   ]
  },
  {
   "cell_type": "markdown",
   "metadata": {},
   "source": [
    "A data practice category is defined in the paper as a category of data practice specified by a privacy policy. The paper proposes the following categories:\n",
    "1. First Party Collection/Use\n",
    "2. Third Party Sharing/Collection\n",
    "3. User Choice/Control\n",
    "4. User Access, Edit, & Deletion\n",
    "5. Data Retention\n",
    "6. Data Security\n",
    "7. Policy Change\n",
    "8. Do Not Track\n",
    "9. International & Specific Audiences\n",
    "10. Other"
   ]
  },
  {
   "cell_type": "markdown",
   "metadata": {},
   "source": [
    "Each segment is assigned a category type, and we hypothesize that we can reliably predict the data practice category type of each segment, since segment text contains key words and phrases easily linked to one of these categories (e.g., \"third party\" -> the 2nd category above)."
   ]
  },
  {
   "cell_type": "code",
   "execution_count": 34,
   "metadata": {},
   "outputs": [],
   "source": [
    "import pandas as pd\n",
    "from collections import Counter\n",
    "from sklearn.feature_extraction.text import TfidfVectorizer\n",
    "\n",
    "from sklearn.model_selection import GridSearchCV\n",
    "from sklearn.linear_model import LogisticRegression\n",
    "from sklearn.ensemble import RandomForestClassifier\n",
    "\n",
    "from sklearn.model_selection import cross_val_score, train_test_split\n",
    "from sklearn.metrics import classification_report, plot_confusion_matrix"
   ]
  },
  {
   "cell_type": "code",
   "execution_count": 35,
   "metadata": {},
   "outputs": [],
   "source": [
    "def add_datapoints_to_lists(annotation_file_name, company_segments, segments, categories):\n",
    "    \"\"\"\n",
    "    Parses category data from annotation file with `annotation_file_name` and joins it with segment text data from `company_segments`.\n",
    "    The list of segments and their corresponding category names (for data practices) are then appended to the `segments` and `categories` lists.\n",
    "    \"\"\"\n",
    "    column_names = ['annotationID', 'batchID', 'annotatorID', 'policyID', 'segmentID', 'categoryName', 'attributeValuePairs', 'policyURL', 'date']\n",
    "\n",
    "    # load the annotations data and drop duplicates for simplification\n",
    "    annotations_df = pd.read_csv(annotation_file_name, header=None, names=column_names)\n",
    "    cleaned_annotations_df = annotations_df.drop(['batchID', 'policyURL', 'annotationID', 'date', 'attributeValuePairs', 'annotatorID'], axis=1).drop_duplicates(subset=['policyID', 'segmentID'])\n",
    "\n",
    "    # combine the annotated categories with the segment text\n",
    "    company_name = annotation_file_name.split('/')[-1].split('.csv')[0].split('_')[-1] + \".html\" # to index the company_segments dictionary\n",
    "    company_seg_list = company_segments[company_name]\n",
    "\n",
    "    # add the segments to the dataframe\n",
    "    cleaned_annotations_df['segmentText'] = [company_seg_list[i] for i in cleaned_annotations_df['segmentID']]\n",
    "\n",
    "    # add the segment text and categories (labels we will predict) to the lists we're cumulating\n",
    "    segments.extend(cleaned_annotations_df['segmentText'])\n",
    "    categories.extend(cleaned_annotations_df['categoryName'])\n",
    "    \n",
    "    return segments, categories"
   ]
  },
  {
   "cell_type": "markdown",
   "metadata": {},
   "source": [
    "We first generate our features and labels. We use our custom-defined function above to merge information from the `annotations/` with the policy text segments we used in the earlier sections."
   ]
  },
  {
   "cell_type": "code",
   "execution_count": 36,
   "metadata": {},
   "outputs": [],
   "source": [
    "segments = []\n",
    "categories = []\n",
    "for annotation_file_name in glob.glob('./OPP-115/annotations/*.csv'):\n",
    "    segments, categories = add_datapoints_to_lists(annotation_file_name, company_segments, segments, categories)"
   ]
  },
  {
   "cell_type": "markdown",
   "metadata": {},
   "source": [
    "We now have our segments and their labels (i.e. the data practice categories)."
   ]
  },
  {
   "cell_type": "code",
   "execution_count": 37,
   "metadata": {},
   "outputs": [
    {
     "name": "stdout",
     "output_type": "stream",
     "text": [
      "Created 3792 segments and 3792 categories\n"
     ]
    }
   ],
   "source": [
    "print(f\"Created {len(segments)} segments and {len(categories)} categories\")"
   ]
  },
  {
   "cell_type": "markdown",
   "metadata": {},
   "source": [
    "The category types and counts present in our dataset are displayed below."
   ]
  },
  {
   "cell_type": "code",
   "execution_count": 38,
   "metadata": {},
   "outputs": [
    {
     "data": {
      "text/plain": [
       "Counter({'Other': 973,\n",
       "         'First Party Collection/Use': 1097,\n",
       "         'Third Party Sharing/Collection': 663,\n",
       "         'User Choice/Control': 308,\n",
       "         'International and Specific Audiences': 277,\n",
       "         'Data Security': 190,\n",
       "         'Policy Change': 103,\n",
       "         'User Access, Edit and Deletion': 123,\n",
       "         'Do Not Track': 21,\n",
       "         'Data Retention': 37})"
      ]
     },
     "execution_count": 38,
     "metadata": {},
     "output_type": "execute_result"
    }
   ],
   "source": [
    "Counter(categories)"
   ]
  },
  {
   "cell_type": "markdown",
   "metadata": {},
   "source": [
    "We then proceed with Tfidf vectorization and train a Logistic Regression classifier, since this process has generalized well across various applications in our coursework and also in other classification tasks."
   ]
  },
  {
   "cell_type": "code",
   "execution_count": 39,
   "metadata": {},
   "outputs": [],
   "source": [
    "vectorizer = TfidfVectorizer(\n",
    "    input = 'content',\n",
    "    encoding = 'utf-8',\n",
    "    strip_accents = 'unicode',\n",
    "    stop_words='english',\n",
    "    lowercase = True,\n",
    "    min_df = 0.001, \n",
    "    max_df = 0.3    \n",
    ")"
   ]
  },
  {
   "cell_type": "code",
   "execution_count": 40,
   "metadata": {},
   "outputs": [],
   "source": [
    "X = vectorizer.fit_transform(segments)\n",
    "y = categories"
   ]
  },
  {
   "cell_type": "code",
   "execution_count": 41,
   "metadata": {},
   "outputs": [
    {
     "name": "stdout",
     "output_type": "stream",
     "text": [
      "Cross validation scores of untuned Logistic Regression:  [0.7088274  0.68642951 0.66886544 0.72163588 0.68733509]\n"
     ]
    }
   ],
   "source": [
    "cross_val_scores = cross_val_score(LogisticRegression(), X, y, cv=5, scoring='accuracy')\n",
    "print(\"Cross validation scores of untuned Logistic Regression: \", cross_val_scores)"
   ]
  },
  {
   "cell_type": "code",
   "execution_count": 42,
   "metadata": {},
   "outputs": [
    {
     "name": "stdout",
     "output_type": "stream",
     "text": [
      "Average score of untuned Logistic Regression Model: 0.69462\n"
     ]
    }
   ],
   "source": [
    "print(\"Average score of untuned Logistic Regression Model:\", round(np.mean(cross_val_scores), 5))"
   ]
  },
  {
   "cell_type": "markdown",
   "metadata": {},
   "source": [
    "We see that the untuned Logistic Regression accuracy is better than 50%, but it is not great. We try tuning the Logistic Regression parameters to improve the accuracy score."
   ]
  },
  {
   "cell_type": "code",
   "execution_count": 43,
   "metadata": {},
   "outputs": [],
   "source": [
    "logistic_grid = {\"C\": np.logspace(-3,3,7), \"solver\": [\"newton-cg\", \"lbfgs\", \"liblinear\", \"sag\", \"saga\"]}"
   ]
  },
  {
   "cell_type": "code",
   "execution_count": 44,
   "metadata": {},
   "outputs": [
    {
     "name": "stdout",
     "output_type": "stream",
     "text": [
      "Fitting 5 folds for each of 35 candidates, totalling 175 fits\n"
     ]
    },
    {
     "name": "stderr",
     "output_type": "stream",
     "text": [
      "[Parallel(n_jobs=-1)]: Using backend LokyBackend with 8 concurrent workers.\n",
      "[Parallel(n_jobs=-1)]: Done  25 tasks      | elapsed:    2.6s\n",
      "[Parallel(n_jobs=-1)]: Done 146 tasks      | elapsed:   20.5s\n",
      "[Parallel(n_jobs=-1)]: Done 175 out of 175 | elapsed:   43.8s finished\n"
     ]
    },
    {
     "name": "stdout",
     "output_type": "stream",
     "text": [
      "Tuned hyperparameters: {'C': 1.0, 'solver': 'newton-cg'}\n",
      "Accuracy: 0.6946186657211093\n"
     ]
    }
   ],
   "source": [
    "logistic_clf_gridsearch = GridSearchCV(LogisticRegression(max_iter=1000), logistic_grid, cv=5, n_jobs=-1, verbose=2)\n",
    "logistic_clf_gridsearch.fit(X,y) # X_scaled is the scaled feature matrix for the token-based classification\n",
    "\n",
    "print(\"Tuned hyperparameters:\",logistic_clf_gridsearch.best_params_)\n",
    "print(\"Accuracy:\",logistic_clf_gridsearch.best_score_)"
   ]
  },
  {
   "cell_type": "code",
   "execution_count": 45,
   "metadata": {},
   "outputs": [
    {
     "name": "stdout",
     "output_type": "stream",
     "text": [
      "Average score of tuned Logistic Regression:  0.69515\n"
     ]
    }
   ],
   "source": [
    "tuned_cross_val_scores = cross_val_score(LogisticRegression(C=1.0, solver='saga'), X, y, cv=5, scoring='accuracy')\n",
    "print(\"Average score of tuned Logistic Regression: \", round(np.mean(tuned_cross_val_scores), 5))"
   ]
  },
  {
   "cell_type": "markdown",
   "metadata": {},
   "source": [
    "The benefits of tuning the Logistic Regression classifier are minimal: a 0.001 improvement in accuracy."
   ]
  },
  {
   "cell_type": "markdown",
   "metadata": {},
   "source": [
    "We also look into scaling our feature matrix, and try tuning the \"C\" parameter, since this parameter typically has the most impact on classifier accuracy."
   ]
  },
  {
   "cell_type": "code",
   "execution_count": 46,
   "metadata": {},
   "outputs": [],
   "source": [
    "from sklearn.preprocessing import StandardScaler\n",
    "X_scaled = StandardScaler().fit_transform(X.toarray())"
   ]
  },
  {
   "cell_type": "code",
   "execution_count": 47,
   "metadata": {},
   "outputs": [
    {
     "name": "stdout",
     "output_type": "stream",
     "text": [
      "Cross validation scores of untuned Logistic Regression:  0.62921\n"
     ]
    }
   ],
   "source": [
    "scaled_cross_val_scores = cross_val_score(LogisticRegression(max_iter=1000), X_scaled, y, cv=5, scoring='accuracy')\n",
    "print(\"Cross validation scores of untuned Logistic Regression: \", round(np.mean(scaled_cross_val_scores),5))"
   ]
  },
  {
   "cell_type": "code",
   "execution_count": 48,
   "metadata": {},
   "outputs": [],
   "source": [
    "logistic_grid = {\"C\": np.logspace(-2,2,5)}"
   ]
  },
  {
   "cell_type": "code",
   "execution_count": 49,
   "metadata": {},
   "outputs": [
    {
     "name": "stdout",
     "output_type": "stream",
     "text": [
      "Fitting 5 folds for each of 5 candidates, totalling 25 fits\n"
     ]
    },
    {
     "name": "stderr",
     "output_type": "stream",
     "text": [
      "[Parallel(n_jobs=-1)]: Using backend LokyBackend with 8 concurrent workers.\n",
      "[Parallel(n_jobs=-1)]: Done  23 out of  25 | elapsed:  3.4min remaining:   17.5s\n",
      "[Parallel(n_jobs=-1)]: Done  25 out of  25 | elapsed:  3.4min finished\n"
     ]
    },
    {
     "name": "stdout",
     "output_type": "stream",
     "text": [
      "Tuned hyperparameters: {'C': 0.01}\n",
      "Accuracy: 0.6613889265489586\n"
     ]
    }
   ],
   "source": [
    "logistic_clf_gridsearch = GridSearchCV(LogisticRegression(max_iter=1000), logistic_grid, cv=5, n_jobs=-1, verbose=2)\n",
    "logistic_clf_gridsearch.fit(X_scaled,y) # X_scaled is the scaled feature matrix for the token-based classification\n",
    "\n",
    "print(\"Tuned hyperparameters:\",logistic_clf_gridsearch.best_params_)\n",
    "print(\"Accuracy:\",logistic_clf_gridsearch.best_score_)"
   ]
  },
  {
   "cell_type": "markdown",
   "metadata": {},
   "source": [
    "Scaling and retuning decreases the score (the highest accuracy is lower than the overall highest accuracy we've seen so far with logistic regression). One reason for this may be due to the normalization already provided by using a Tfidf vectorizer (so scaling does not help our classification). "
   ]
  },
  {
   "cell_type": "markdown",
   "metadata": {},
   "source": [
    "### Next, we'll try a Random Forest Classifier"
   ]
  },
  {
   "cell_type": "markdown",
   "metadata": {},
   "source": [
    "We try the untuned and also tuned Random Forest classifiers and generate cross-validated accuracy scores for each iteration."
   ]
  },
  {
   "cell_type": "code",
   "execution_count": 50,
   "metadata": {},
   "outputs": [
    {
     "name": "stdout",
     "output_type": "stream",
     "text": [
      "Cross validation scores of untuned Random Forest Classifier:  0.69673\n"
     ]
    }
   ],
   "source": [
    "rf_cross_val_scores = cross_val_score(RandomForestClassifier(), X, y, cv=5, scoring='accuracy')\n",
    "print(\"Cross validation scores of untuned Random Forest Classifier: \", round(np.mean(rf_cross_val_scores), 5))"
   ]
  },
  {
   "cell_type": "code",
   "execution_count": 51,
   "metadata": {},
   "outputs": [],
   "source": [
    "n_estimators = [int(x) for x in np.linspace(start = 200, stop = 1000, num = 5)]\n",
    "# Method of selecting samples for training each tree\n",
    "bootstrap = [True, False]\n",
    "# Number of features to consider at every split\n",
    "max_features = ['auto', 'sqrt']\n",
    "\n",
    "rf_grid = {'n_estimators': n_estimators,\n",
    "           'bootstrap': bootstrap, \n",
    "           'max_features': max_features}"
   ]
  },
  {
   "cell_type": "code",
   "execution_count": 52,
   "metadata": {},
   "outputs": [
    {
     "name": "stdout",
     "output_type": "stream",
     "text": [
      "Fitting 5 folds for each of 20 candidates, totalling 100 fits\n"
     ]
    },
    {
     "name": "stderr",
     "output_type": "stream",
     "text": [
      "[Parallel(n_jobs=-1)]: Using backend LokyBackend with 8 concurrent workers.\n",
      "[Parallel(n_jobs=-1)]: Done  25 tasks      | elapsed:  1.2min\n",
      "[Parallel(n_jobs=-1)]: Done 100 out of 100 | elapsed:  5.9min finished\n"
     ]
    },
    {
     "name": "stdout",
     "output_type": "stream",
     "text": [
      "Tuned hyperparameters: {'bootstrap': False, 'max_features': 'auto', 'n_estimators': 1000}\n",
      "Accuracy: 0.7115003424169422\n"
     ]
    }
   ],
   "source": [
    "rf_clf_gridsearch = GridSearchCV(RandomForestClassifier(), rf_grid, cv=5, n_jobs=-1, verbose=2)\n",
    "rf_clf_gridsearch.fit(X, y) # X_scaled is the scaled feature matrix for the token-based classification\n",
    "\n",
    "print(\"Tuned hyperparameters:\",rf_clf_gridsearch.best_params_)\n",
    "print(\"Accuracy:\",rf_clf_gridsearch.best_score_)"
   ]
  },
  {
   "cell_type": "code",
   "execution_count": 53,
   "metadata": {},
   "outputs": [
    {
     "name": "stdout",
     "output_type": "stream",
     "text": [
      "Cross validation scores of tuned Random Forest Classifier:  0.71044\n"
     ]
    }
   ],
   "source": [
    "tuned_rf_model = RandomForestClassifier(bootstrap= False, max_features= 'sqrt', n_estimators= 600)\n",
    "rf_cross_val_scores = cross_val_score(tuned_rf_model, X, y, cv=5, scoring='accuracy')\n",
    "print(\"Cross validation scores of tuned Random Forest Classifier: \", round(np.mean(rf_cross_val_scores), 5))"
   ]
  },
  {
   "cell_type": "markdown",
   "metadata": {},
   "source": [
    "Since the tuned random forest classifier produced the highest cross-validated accuracy score (0.710 vs 0.695 from the tuned Logistic Regression), we choose this model and further explore its limitations in the following discussion section."
   ]
  },
  {
   "cell_type": "markdown",
   "metadata": {},
   "source": [
    "## Discussion of these models\n",
    "We incorporate more code into the discussion of these results since we would like to get a better understanding of the model while detailing its inaccuracies/limitations."
   ]
  },
  {
   "cell_type": "markdown",
   "metadata": {},
   "source": [
    "#### Interpreting the results of this model.\n",
    "Let's first take a closer look at the accuracy scores, specifically those for the individual classes (rather than an aggregated accuracy score across all classes)."
   ]
  },
  {
   "cell_type": "markdown",
   "metadata": {},
   "source": [
    "We perform a train_test split instead of the cross-validation from above so we can delve deeper into the predictions the model generates. We use the same tuned Random Forest model (stored in a variable in the previous cell) for our discussion."
   ]
  },
  {
   "cell_type": "code",
   "execution_count": 54,
   "metadata": {},
   "outputs": [],
   "source": [
    "X_train, X_test, y_train, y_test = train_test_split(X, y, test_size=0.2, shuffle=False) # shuffle = False so we can look at some incorrect predictions below.\n",
    "trained_model = tuned_rf_model.fit(X_train, y_train)\n",
    "predictions = trained_model.predict(X_test)"
   ]
  },
  {
   "cell_type": "code",
   "execution_count": 55,
   "metadata": {},
   "outputs": [
    {
     "name": "stdout",
     "output_type": "stream",
     "text": [
      "                                      precision    recall  f1-score   support\n",
      "\n",
      "                      Data Retention       0.67      0.33      0.44         6\n",
      "                       Data Security       0.84      0.73      0.78        37\n",
      "                        Do Not Track       0.67      0.50      0.57         4\n",
      "          First Party Collection/Use       0.64      0.84      0.73       217\n",
      "International and Specific Audiences       0.93      0.74      0.82        54\n",
      "                               Other       0.67      0.66      0.67       201\n",
      "                       Policy Change       0.81      0.76      0.79        17\n",
      "      Third Party Sharing/Collection       0.73      0.70      0.72       130\n",
      "      User Access, Edit and Deletion       0.73      0.35      0.48        31\n",
      "                 User Choice/Control       0.76      0.47      0.58        62\n",
      "\n",
      "                            accuracy                           0.70       759\n",
      "                           macro avg       0.75      0.61      0.66       759\n",
      "                        weighted avg       0.71      0.70      0.69       759\n",
      "\n"
     ]
    }
   ],
   "source": [
    "print(classification_report(y_test, predictions))"
   ]
  },
  {
   "cell_type": "markdown",
   "metadata": {},
   "source": [
    "Here, we see that some classes have much lower f1-scores than other classes. For example, we see that the **Data Retention** category has a f1-score of 0.44, which is significantly lower than the others. Lower accuracies tend to be correlated with classes with lower \"support\" values, aka less datapoints. This imbalance in f1-scores may be due to class imbalances, a significant problem in developing classification models."
   ]
  },
  {
   "cell_type": "markdown",
   "metadata": {},
   "source": [
    "This is a limitation posed by the dataset we are using. One could try different sampling techniques or label more data to resolve class imbalances."
   ]
  },
  {
   "cell_type": "markdown",
   "metadata": {},
   "source": [
    "### Incorrect prediction samples\n",
    "Now, we take a closer look at some texts that are misclassified, and generalize what types of misclassifications are occurring in our model."
   ]
  },
  {
   "cell_type": "code",
   "execution_count": 56,
   "metadata": {},
   "outputs": [
    {
     "name": "stdout",
     "output_type": "stream",
     "text": [
      "TEXT:  Because we are one big, happy family, The Motley Fool and its subsidiaries may share information for site administration or order fulfillment, and to notify you of products and services that may interest you. \n",
      "EXPECTED: Third Party Sharing/Collection. \tPREDICTED: First Party Collection/Use\n",
      "\n",
      "TEXT: Personalized areas of our sites, such as My Fool, are password-protected. Only you have access to these password-protected areas. Do not share your passwords with anyone. The Motley Fool will never ask you for your password in an unsolicited phone call or email. If you are using a computer to which others have access, such as one in a computer lab, Internet cafe, or public library, always remember to log out and close your browser window when leaving our site. \n",
      "EXPECTED: Data Security. \tPREDICTED: First Party Collection/Use\n",
      "\n",
      "TEXT:  Data Retention Upon your request, we will remove your personal information from the website but we will retain and use your information as necessary to comply with our legal obligations, resolve disputes, and enforce our Fool Rules and take other actions otherwise permitted by law. \n",
      "EXPECTED: User Access, Edit and Deletion. \tPREDICTED: Data Retention\n",
      "\n",
      "TEXT:  Will The Motley Fool Use Your Information for Direct Mailings- If you register with The Motley Fool or sign up for or buy any of our products or services, we will send you information about our various products and services, or other products and services that we believe may interest you. Our partners in co-branded products (for example, our Motley Fool-branded credit card) may also send you information, but only for those Fool-branded products. \n",
      "EXPECTED: Third Party Sharing/Collection. \tPREDICTED: First Party Collection/Use\n",
      "\n",
      "TEXT: As we stated earlier, we may also provide your physical mailing address (but not your email address) to people who will send you promotional \"snail\" mailings about their products and services. Note, again: This provision applies only to information received by us after May 15, 2005. \n",
      "EXPECTED: Third Party Sharing/Collection. \tPREDICTED: First Party Collection/Use\n",
      "\n"
     ]
    }
   ],
   "source": [
    "num_incorrect_predictions_printed = 0\n",
    "for i in range(len(predictions)):\n",
    "    if predictions[i] != y_test[i]:\n",
    "        print(\"TEXT:\", segments[len(y_train) + i])\n",
    "        print(f\"EXPECTED: {y_test[i]}. \\tPREDICTED: {predictions[i]}\")\n",
    "        print()\n",
    "        num_incorrect_predictions_printed += 1\n",
    "    if num_incorrect_predictions_printed == 5: # print only 5 incorrect predictions\n",
    "        break"
   ]
  },
  {
   "cell_type": "markdown",
   "metadata": {},
   "source": [
    "One common misclassification we already see is the confusion between \"Third Party Sharing/Collection\" and \"First Party Collection/Use\". This confusion makes sense, since both data practices relate to collection (either from a first or third party) of data. The use of pronouns (e.g., \"We may also provide...\") may also generate some confusion in the model."
   ]
  },
  {
   "cell_type": "markdown",
   "metadata": {},
   "source": [
    "#### Confusion Matrix"
   ]
  },
  {
   "cell_type": "markdown",
   "metadata": {},
   "source": [
    "From the initial observations generated above, there may be patterns in misclassifications (e.g., class A is often confused with class B). Noting the limitations of looking at samples of incorrect predictions (it does not make sense to look at all the incorrect predictions, but we do want to be comprehensive in examining mispredictions). \n",
    "\n",
    "Hence, we generate a confusion matrix to get a better understanding of the misclassifications."
   ]
  },
  {
   "cell_type": "code",
   "execution_count": 57,
   "metadata": {},
   "outputs": [
    {
     "data": {
      "text/plain": [
       "<sklearn.metrics._plot.confusion_matrix.ConfusionMatrixDisplay at 0x1710e27f0>"
      ]
     },
     "execution_count": 57,
     "metadata": {},
     "output_type": "execute_result"
    },
    {
     "data": {
      "image/png": "[encoded data removed]",
      "text/plain": [
       "<Figure size 792x648 with 2 Axes>"
      ]
     },
     "metadata": {
      "needs_background": "light"
     },
     "output_type": "display_data"
    }
   ],
   "source": [
    "f, ax = plt.subplots(figsize=(11, 9))\n",
    "plot_confusion_matrix(tuned_rf_model, X_test, y_test, xticks_rotation=90, ax=ax)"
   ]
  },
  {
   "cell_type": "markdown",
   "metadata": {},
   "source": [
    "With this confusion matrix, we note that most non-diagonal entries are 0 or pretty close to 0 (which indicates our model is making a non-trivial number of correct predictions). \n",
    "\n",
    "However, we see that **First Party Collection/Use** is often confused with **Third Party Sharing/Collection** (as we saw in our text samples earlier). Our inference for the sources of this confusion are detailed above. For these types of misclassifications, one may try to improve the model by adding POS tags and additional features from spaCy that help differentiate between first and third-party subjects. Better feature engineering could also selectively reduce misclassifications between specific categories.\n",
    "\n",
    "*We also note another interesting and significant misclassification/confusion:*  \n",
    "\n",
    "**First Party Collection/Use** with **Other**: \"Other\" is defined as \"additional sub-labels for introductory or general text, contact information, and practices not covered by other categories.\".\n",
    "    * Looking across the \"Other\" column and rows, we see there is more confusion with this category in general. This is a limitation inherent in the pre-defined categories, so one might try to improve this classification task by further defining some categories within \"Other\".\n",
    "\n"
   ]
  },
  {
   "cell_type": "markdown",
   "metadata": {},
   "source": [
    "# 5. Conclusion"
   ]
  },
  {
   "cell_type": "markdown",
   "metadata": {},
   "source": [
    "We now wrap up the three main discussions from above by consolidating support for hypotheses, limitations, and suggestions for future work to tackle these limitations."
   ]
  },
  {
   "cell_type": "markdown",
   "metadata": {},
   "source": [
    "The questions guiding this project (copied from above) are:\n",
    "1. If I'm a user with a privacy-related question, can I easily find out the answer to that question in a specific segment of the policy text?\n",
    "2. What do privacy policies typically include? As a user, what should I expect a privacy policy to contain?\n",
    "3. Are there ways to distinguish between general types of privacy policies? Are those of government-run entities different from commercial entities?\n",
    "4. Given a segment, what data practice category matches the segment?"
   ]
  },
  {
   "cell_type": "markdown",
   "metadata": {},
   "source": [
    "### RQ1. \n",
    "Our hypothesis that the embedding-based similarity could provide a text segment that answered the user's query was supported by our sample with Amazon's privacy policy. The main limitation we discussed in that section was that the selected segment may refer to another part of the policy not included in the returned text. A user would benefit from seeing the segment that had the highest similarity score with the query, and also any potential segments referenced in the selected segment. \n",
    "\n",
    "Future work (in application development) could resolve this by displaying the entire policy text and highlighting the segment within the text to allow a user to see other segments juxtaposed with the selected segment. On the NLP development side, one could return the k-most-similar segments, but this would pose an issue in determining the best k."
   ]
  },
  {
   "cell_type": "markdown",
   "metadata": {},
   "source": [
    "### RQ2 and RQ3. \n",
    "We hypothesized that there are discrete topics that compose privacy policies, including those related to location data, cookies, and contact information. This was vaguely supported by the topics we generated using topic modeling with LDA; we observed the plausible existence of these policies by tgenerating the top words for each topic. \n",
    "\n",
    "Related to Q3, we hypothesized that there would be differences between the privacy policies of government-run entities and commercial entities, and noted that, while there are likely observable differences, there may be less-clear boundaries between different types of organizations. The topic means we generated for every type of organization, per topic, demonstrated this mixture of results: some topics, like ad servies, showed a clear distinction between commercial entities and government/education entities, but other topics like ensuring data security against unauthorized access (topic 17) were equally present in all organization types.\n",
    "\n",
    "Some limitations include the smaller quantity of data from non-commercial entities. This makes our aggregate calculations and observations less reliable, since some means are comprised of a few datapoints. Future works may get around this issue by gathering more privacy policies from .gov and .edu websites."
   ]
  },
  {
   "cell_type": "markdown",
   "metadata": {},
   "source": [
    "### RQ4. \n",
    "We hypothesized that we can use machine-learning classification techniques to predict a category of data practice given a policy segment. From our analyses, many predictions are correct (overall, ~70% with the tuned Random Forest model). However, we note two limitations: \n",
    "\n",
    "1. Class imbalances may skew our results (making the accuracy seem high despite the model being biased towards certain classes). We propose that this limitation may be resolved by implementing additional sampling techniques or by labeling more policy data from less-frequent classes.\n",
    "2. Confusion between several categories, like the **First Party Collection/Use** and **Third Party Sharing/Collection** classes. As we observed by looking at sample texts, this is a limitation presented by the similar language of segments with these labels. Future work may augment the input features with spaCy POS tags or by implementing other feature-engineering steps to specifically target the common misclassifications (features that specifically differentiate first-party from third-party subjects). "
   ]
  },
  {
   "cell_type": "markdown",
   "metadata": {},
   "source": [
    "**Overall**, we see promising results in applying NLP to privacy policies. The language is standardized, lending itself well to text analysis techniques, yet the length and lack of readability motivates research to improve the interpretability of these privacy policies. \n",
    "\n",
    "This project explores several core research questions motivated by a user's point of view, and demonstrates that techniques like word-embedding-based similarities, topic modeling, and machine learning classification models can enhance the research area of usable privacy."
   ]
  },
  {
   "cell_type": "markdown",
   "metadata": {},
   "source": [
    "# 6. Acknowledgements "
   ]
  },
  {
   "cell_type": "markdown",
   "metadata": {},
   "source": [
    "Even though this isn't quite a fully-fledged, eloquent paper ready for submission, I appreciate the acknowledgments section. This is a slightly more informal version of acknowledgments, but still written with the same intentions.\n",
    "\n",
    "Thank you to the entire INFO 3350 course staff for your support and guidance throughout the semester. This final project was an especially amazing opportunity to explore my own idea, which is closely related to my interests in Usable Privacy and Computer Security (hoping to pursue this in graduate school actually!). I hope my analysis is interesting for you to follow along!"
   ]
  }
 ],
 "metadata": {
  "kernelspec": {
   "display_name": "Python 3",
   "language": "python",
   "name": "python3"
  },
  "language_info": {
   "codemirror_mode": {
    "name": "ipython",
    "version": 3
   },
   "file_extension": ".py",
   "mimetype": "text/x-python",
   "name": "python",
   "nbconvert_exporter": "python",
   "pygments_lexer": "ipython3",
   "version": "3.8.3"
  }
 },
 "nbformat": 4,
 "nbformat_minor": 4
}
